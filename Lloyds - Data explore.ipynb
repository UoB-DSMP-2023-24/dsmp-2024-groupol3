{
 "cells": [
  {
   "cell_type": "markdown",
   "metadata": {
    "application/vnd.databricks.v1+cell": {
     "cellMetadata": {},
     "inputWidgets": {},
     "nuid": "fd2cf482-e51c-4cb0-8adf-e009cfe2ca23",
     "showTitle": false,
     "title": ""
    }
   },
   "source": [
    "# Data Questions"
   ]
  },
  {
   "cell_type": "code",
   "execution_count": 0,
   "metadata": {
    "application/vnd.databricks.v1+cell": {
     "cellMetadata": {},
     "inputWidgets": {},
     "nuid": "ae8292cb-259d-430d-b8d7-a985f5453117",
     "showTitle": false,
     "title": ""
    }
   },
   "outputs": [],
   "source": [
    "# to_randomly_generated_account column I have assumed this is the Purchase type as we see types of purchases an account can make (Bar, Pub, Restuarant etc) For this reason for overall analysis we would include these purchases for totals\n",
    "# However this does not offer any granulariry on the types of purchases. To investigate this we may need to remove these enteries\n",
    "# We need to consider how we clean this column to as we have data that is the same but altered by an 'a' before the word or the same word plural. Furthemore if we are grouping types of shopes together or individually "
   ]
  },
  {
   "cell_type": "markdown",
   "metadata": {
    "application/vnd.databricks.v1+cell": {
     "cellMetadata": {
      "byteLimit": 2048000,
      "rowLimit": 10000
     },
     "inputWidgets": {},
     "nuid": "06c800ad-80d6-4c0b-a2b6-54b3a86c6ec8",
     "showTitle": false,
     "title": ""
    }
   },
   "source": [
    "# Query the whole table"
   ]
  },
  {
   "cell_type": "code",
   "execution_count": 0,
   "metadata": {
    "application/vnd.databricks.v1+cell": {
     "cellMetadata": {
      "byteLimit": 2048000,
      "implicitDf": true,
      "rowLimit": 10000
     },
     "inputWidgets": {},
     "nuid": "df73f07c-1d55-45e6-bffa-6304ee38db85",
     "showTitle": false,
     "title": ""
    }
   },
   "outputs": [],
   "source": [
    "%sql\n",
    "SELECT\n",
    "  *\n",
    "FROM\n",
    "  lloyds_raw_data_table\n"
   ]
  },
  {
   "cell_type": "markdown",
   "metadata": {
    "application/vnd.databricks.v1+cell": {
     "cellMetadata": {},
     "inputWidgets": {},
     "nuid": "7432c174-32cf-40f3-860e-10330f8b965b",
     "showTitle": false,
     "title": ""
    }
   },
   "source": [
    "# General Calculations"
   ]
  },
  {
   "cell_type": "code",
   "execution_count": 0,
   "metadata": {
    "application/vnd.databricks.v1+cell": {
     "cellMetadata": {
      "byteLimit": 2048000,
      "implicitDf": true,
      "rowLimit": 10000
     },
     "inputWidgets": {},
     "nuid": "8bc15731-8255-4870-bc63-7436ff27217e",
     "showTitle": false,
     "title": ""
    }
   },
   "outputs": [],
   "source": [
    "%sql\n",
    "-- Top 10 Accounts by purchase amount\n",
    "SELECT\n",
    "  account_id,\n",
    "  ROUND(SUM(purchase_amount), 2) AS tot\n",
    "FROM\n",
    "  lloyds_raw_data_table\n",
    "GROUP BY\n",
    "  account_id\n",
    "ORDER BY\n",
    "  tot DESC\n",
    "LIMIT\n",
    "  10;"
   ]
  },
  {
   "cell_type": "code",
   "execution_count": 0,
   "metadata": {
    "application/vnd.databricks.v1+cell": {
     "cellMetadata": {
      "byteLimit": 2048000,
      "implicitDf": true,
      "rowLimit": 10000
     },
     "inputWidgets": {},
     "nuid": "7d28c977-27e4-4a68-a4c6-0d1bba8694c8",
     "showTitle": false,
     "title": ""
    }
   },
   "outputs": [],
   "source": [
    "%sql\n",
    "-- Top 1 Accounts purchasing habits\n",
    "SELECT\n",
    "  account_id,\n",
    "  purchase_type,\n",
    "  ROUND(SUM(purchase_amount), 2) tot\n",
    "FROM\n",
    "  lloyds_raw_data_table\n",
    "WHERE\n",
    "  account_id = 17398\n",
    "GROUP BY\n",
    "  account_id,\n",
    "  purchase_type\n",
    "ORDER BY\n",
    "  tot DESC"
   ]
  },
  {
   "cell_type": "code",
   "execution_count": 0,
   "metadata": {
    "application/vnd.databricks.v1+cell": {
     "cellMetadata": {
      "byteLimit": 2048000,
      "implicitDf": true,
      "rowLimit": 10000
     },
     "inputWidgets": {},
     "nuid": "f80f7fbd-7f3c-4160-844d-1fe31f8fc223",
     "showTitle": false,
     "title": ""
    }
   },
   "outputs": [],
   "source": [
    "%sql\n",
    "-- Lowest 10 Accounts by purchase amount\n",
    "SELECT\n",
    "  account_id,\n",
    "  ROUND(SUM(purchase_amount), 2) AS tot\n",
    "FROM\n",
    "  lloyds_raw_data_table\n",
    "GROUP BY\n",
    "  account_id\n",
    "ORDER BY\n",
    "  tot \n",
    "LIMIT 10;"
   ]
  },
  {
   "cell_type": "code",
   "execution_count": 0,
   "metadata": {
    "application/vnd.databricks.v1+cell": {
     "cellMetadata": {
      "byteLimit": 2048000,
      "implicitDf": true,
      "rowLimit": 10000
     },
     "inputWidgets": {},
     "nuid": "64698a15-9057-4ea7-a9d2-6c4853cac0bf",
     "showTitle": false,
     "title": ""
    }
   },
   "outputs": [],
   "source": [
    "%sql\n",
    "-- Bottom 1 Accounts purchasing habits\n",
    "SELECT\n",
    "  account_id,\n",
    "  purchase_type,\n",
    "  ROUND(SUM(purchase_amount), 2) tot\n",
    "FROM\n",
    "  lloyds_raw_data_table\n",
    "WHERE\n",
    "  account_id = 25652\n",
    "GROUP BY\n",
    "  account_id,\n",
    "  purchase_type\n",
    "ORDER BY\n",
    "  tot DESC"
   ]
  },
  {
   "cell_type": "code",
   "execution_count": 0,
   "metadata": {
    "application/vnd.databricks.v1+cell": {
     "cellMetadata": {},
     "inputWidgets": {},
     "nuid": "db37ea16-c97e-49e7-b18f-f416b85eec2b",
     "showTitle": false,
     "title": ""
    }
   },
   "outputs": [],
   "source": [
    "# Any correlation between top 10 and bottom 10? \n",
    "# Can't do much analysis on income due to possibility of an individual having multiple other accounts elsewhere with this account being used as primary in some instances and secondary in others"
   ]
  },
  {
   "cell_type": "code",
   "execution_count": 0,
   "metadata": {
    "application/vnd.databricks.v1+cell": {
     "cellMetadata": {
      "byteLimit": 2048000,
      "implicitDf": true,
      "rowLimit": 10000
     },
     "inputWidgets": {},
     "nuid": "260772d8-29e8-4ed5-b841-de0d1fc48e15",
     "showTitle": false,
     "title": ""
    }
   },
   "outputs": [],
   "source": [
    "%sql\n",
    "-- Average Purchase Amount\n",
    "SELECT\n",
    "  ROUND(AVG(purchase_amount), 2)\n",
    "FROM\n",
    "  lloyds_raw_data_table"
   ]
  },
  {
   "cell_type": "code",
   "execution_count": 0,
   "metadata": {
    "application/vnd.databricks.v1+cell": {
     "cellMetadata": {
      "byteLimit": 2048000,
      "implicitDf": true,
      "rowLimit": 10000
     },
     "inputWidgets": {},
     "nuid": "f57a908d-a0a3-486e-ab44-97aa2fcad558",
     "showTitle": false,
     "title": ""
    }
   },
   "outputs": [],
   "source": [
    "%sql\n",
    "-- Average Purchase Amount by top 10\n",
    "SELECT\n",
    "  account_id,\n",
    "  ROUND(AVG(purchase_amount), 2) tot\n",
    "FROM\n",
    "  lloyds_raw_data_table\n",
    "WHERE\n",
    "  account_id IN (\n",
    "  SELECT\n",
    "    account_id\n",
    "  FROM\n",
    "    lloyds_raw_data_table\n",
    "  GROUP BY\n",
    "    account_id\n",
    "  ORDER BY\n",
    "    ROUND(SUM(purchase_amount), 2) DESC\n",
    "  LIMIT 10\n",
    "  )\n",
    "GROUP BY\n",
    "  account_id\n",
    "ORDER BY\n",
    "  tot DESC"
   ]
  },
  {
   "cell_type": "code",
   "execution_count": 0,
   "metadata": {
    "application/vnd.databricks.v1+cell": {
     "cellMetadata": {
      "byteLimit": 2048000,
      "implicitDf": true,
      "rowLimit": 10000
     },
     "inputWidgets": {},
     "nuid": "aa6c88e1-a809-41d2-8ad4-26ecfa1e3b5b",
     "showTitle": false,
     "title": ""
    }
   },
   "outputs": [],
   "source": [
    "%sql\n",
    "-- Average Purchase Amount by bottom 10\n",
    "SELECT\n",
    "  account_id,\n",
    "  ROUND(AVG(purchase_amount), 2) tot\n",
    "FROM\n",
    "  lloyds_raw_data_table\n",
    "WHERE\n",
    "  account_id IN (\n",
    "  SELECT\n",
    "    account_id\n",
    "  FROM\n",
    "    lloyds_raw_data_table\n",
    "  GROUP BY\n",
    "    account_id\n",
    "  ORDER BY\n",
    "    ROUND(SUM(purchase_amount), 2)\n",
    "  LIMIT 10\n",
    "  )\n",
    "GROUP BY\n",
    "  account_id\n",
    "ORDER BY\n",
    "  tot DESC"
   ]
  },
  {
   "cell_type": "code",
   "execution_count": 0,
   "metadata": {
    "application/vnd.databricks.v1+cell": {
     "cellMetadata": {
      "byteLimit": 2048000,
      "implicitDf": true,
      "rowLimit": 10000
     },
     "inputWidgets": {},
     "nuid": "7ba43d92-b41e-415d-9107-40d9eb446b63",
     "showTitle": false,
     "title": ""
    }
   },
   "outputs": [],
   "source": [
    "%sql\n",
    "-- Frequency of purchase type, see the most common purchases amongst the ds, spot a pattern?\n",
    "SELECT\n",
    "  purchase_type,\n",
    "  COUNT(purchase_type) AS freq\n",
    "FROM\n",
    "  lloyds_raw_data_table\n",
    "GROUP BY\n",
    "  purchase_type\n",
    "ORDER BY\n",
    "  freq DESC\n",
    "LIMIT 10"
   ]
  },
  {
   "cell_type": "markdown",
   "metadata": {
    "application/vnd.databricks.v1+cell": {
     "cellMetadata": {
      "byteLimit": 2048000,
      "rowLimit": 10000
     },
     "inputWidgets": {},
     "nuid": "3bc0e1dc-b7ef-46c8-9307-82aca5f08a96",
     "showTitle": false,
     "title": ""
    }
   },
   "source": [
    "# Account ID invest"
   ]
  },
  {
   "cell_type": "code",
   "execution_count": 0,
   "metadata": {
    "application/vnd.databricks.v1+cell": {
     "cellMetadata": {
      "byteLimit": 2048000,
      "implicitDf": true,
      "rowLimit": 10000
     },
     "inputWidgets": {},
     "nuid": "b23598ee-6735-4bcb-ba05-9a64729ccfe4",
     "showTitle": false,
     "title": ""
    }
   },
   "outputs": [],
   "source": [
    "%sql\n",
    "SELECT\n",
    "  COUNT(DISTINCT account_id)\n",
    "FROM\n",
    "  lloyds_raw_data_table"
   ]
  },
  {
   "cell_type": "markdown",
   "metadata": {
    "application/vnd.databricks.v1+cell": {
     "cellMetadata": {
      "byteLimit": 2048000,
      "rowLimit": 10000
     },
     "inputWidgets": {},
     "nuid": "04adcd55-5648-43e2-9a1b-447b96214fb9",
     "showTitle": false,
     "title": ""
    }
   },
   "source": [
    "# Purchase type invest"
   ]
  },
  {
   "cell_type": "code",
   "execution_count": 0,
   "metadata": {
    "application/vnd.databricks.v1+cell": {
     "cellMetadata": {
      "byteLimit": 2048000,
      "implicitDf": true,
      "rowLimit": 10000
     },
     "inputWidgets": {},
     "nuid": "dcb5c6e3-8463-480f-9fef-8df261837074",
     "showTitle": false,
     "title": ""
    }
   },
   "outputs": [],
   "source": [
    "%sql\n",
    "SELECT\n",
    "  DISTINCT\n",
    "  purchase_type\n",
    "FROM\n",
    "  lloyds_raw_data_table\n",
    "WHERE \n",
    "  purchase_type NOT REGEXP '[1-9]'\n",
    "ORDER BY\n",
    "  purchase_type\n",
    "-- Excludes all numerical values\n"
   ]
  },
  {
   "cell_type": "code",
   "execution_count": 0,
   "metadata": {
    "application/vnd.databricks.v1+cell": {
     "cellMetadata": {
      "byteLimit": 2048000,
      "implicitDf": true,
      "rowLimit": 10000
     },
     "inputWidgets": {},
     "nuid": "2a3cfa1f-f0ee-4520-8acf-1eb9a1bb5426",
     "showTitle": false,
     "title": ""
    }
   },
   "outputs": [],
   "source": [
    "%sql\n",
    "SELECT\n",
    "  DISTINCT\n",
    "  purchase_type\n",
    "FROM\n",
    "  lloyds_raw_data_table\n",
    "WHERE\n",
    "  purchase_type NOT REGEXP '[1-9]'\n",
    "  AND purchase_type REGEXP 'cafe|coffee|supermarket'\n",
    "-- Query exports the similar terms in the data so we can see how we can best group them\n"
   ]
  },
  {
   "cell_type": "code",
   "execution_count": 0,
   "metadata": {
    "application/vnd.databricks.v1+cell": {
     "cellMetadata": {
      "byteLimit": 2048000,
      "rowLimit": 10000
     },
     "inputWidgets": {},
     "nuid": "b323adeb-333d-4e05-9c35-7f22ebc010ba",
     "showTitle": false,
     "title": ""
    }
   },
   "outputs": [],
   "source": []
  }
 ],
 "metadata": {
  "application/vnd.databricks.v1+notebook": {
   "dashboards": [],
   "language": "python",
   "notebookMetadata": {
    "mostRecentlyExecutedCommandWithImplicitDF": {
     "commandId": 848021024679838,
     "dataframes": [
      "_sqldf"
     ]
    },
    "pythonIndentUnit": 4
   },
   "notebookName": "Lloyds - Data explore",
   "widgets": {}
  }
 },
 "nbformat": 4,
 "nbformat_minor": 0
}
