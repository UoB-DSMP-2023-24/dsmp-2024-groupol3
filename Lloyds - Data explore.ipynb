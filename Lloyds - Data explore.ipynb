{
 "cells": [
  {
   "cell_type": "markdown",
   "metadata": {
    "application/vnd.databricks.v1+cell": {
     "cellMetadata": {},
     "inputWidgets": {},
     "nuid": "06c800ad-80d6-4c0b-a2b6-54b3a86c6ec8",
     "showTitle": false,
     "title": ""
    }
   },
   "source": [
    "# Query the whole table"
   ]
  },
  {
   "cell_type": "code",
   "execution_count": 0,
   "metadata": {
    "application/vnd.databricks.v1+cell": {
     "cellMetadata": {
      "byteLimit": 2048000,
      "implicitDf": true,
      "rowLimit": 10000
     },
     "inputWidgets": {},
     "nuid": "df73f07c-1d55-45e6-bffa-6304ee38db85",
     "showTitle": false,
     "title": ""
    }
   },
   "outputs": [],
   "source": [
    "%sql\n",
    "SELECT\n",
    "  *\n",
    "FROM\n",
    "  lloyds_raw_data\n"
   ]
  },
  {
   "cell_type": "markdown",
   "metadata": {
    "application/vnd.databricks.v1+cell": {
     "cellMetadata": {},
     "inputWidgets": {},
     "nuid": "3bc0e1dc-b7ef-46c8-9307-82aca5f08a96",
     "showTitle": false,
     "title": ""
    }
   },
   "source": [
    "# Account ID invest"
   ]
  },
  {
   "cell_type": "code",
   "execution_count": 0,
   "metadata": {
    "application/vnd.databricks.v1+cell": {
     "cellMetadata": {
      "byteLimit": 2048000,
      "implicitDf": true,
      "rowLimit": 10000
     },
     "inputWidgets": {},
     "nuid": "b23598ee-6735-4bcb-ba05-9a64729ccfe4",
     "showTitle": false,
     "title": ""
    }
   },
   "outputs": [],
   "source": [
    "%sql\n",
    "SELECT\n",
    "  COUNT(DISTINCT account_id)\n",
    "FROM\n",
    "  lloyds_raw_data"
   ]
  },
  {
   "cell_type": "markdown",
   "metadata": {
    "application/vnd.databricks.v1+cell": {
     "cellMetadata": {},
     "inputWidgets": {},
     "nuid": "04adcd55-5648-43e2-9a1b-447b96214fb9",
     "showTitle": false,
     "title": ""
    }
   },
   "source": [
    "# Purchase type invest"
   ]
  },
  {
   "cell_type": "code",
   "execution_count": 0,
   "metadata": {
    "application/vnd.databricks.v1+cell": {
     "cellMetadata": {
      "byteLimit": 2048000,
      "implicitDf": true,
      "rowLimit": 10000
     },
     "inputWidgets": {},
     "nuid": "dcb5c6e3-8463-480f-9fef-8df261837074",
     "showTitle": false,
     "title": ""
    }
   },
   "outputs": [],
   "source": [
    "%sql\n",
    "SELECT\n",
    "  DISTINCT\n",
    "  purchase_type\n",
    "FROM\n",
    "  lloyds_raw_data\n",
    "WHERE \n",
    "  purchase_type NOT REGEXP '[1-9]'\n",
    "ORDER BY\n",
    "  purchase_type\n",
    "-- Excludes all numerical values\n"
   ]
  },
  {
   "cell_type": "code",
   "execution_count": 0,
   "metadata": {
    "application/vnd.databricks.v1+cell": {
     "cellMetadata": {
      "byteLimit": 2048000,
      "implicitDf": true,
      "rowLimit": 10000
     },
     "inputWidgets": {},
     "nuid": "2a3cfa1f-f0ee-4520-8acf-1eb9a1bb5426",
     "showTitle": false,
     "title": ""
    }
   },
   "outputs": [],
   "source": [
    "%sql\n",
    "SELECT\n",
    "  DISTINCT\n",
    "  purchase_type\n",
    "FROM\n",
    "  lloyds_raw_data\n",
    "WHERE\n",
    "  purchase_type NOT REGEXP '[1-9]'\n",
    "  AND purchase_type REGEXP 'cafe|coffee|supermarket'\n",
    "-- Query exports the similar terms in the data so we can see how we can best group them\n"
   ]
  },
  {
   "cell_type": "code",
   "execution_count": 0,
   "metadata": {
    "application/vnd.databricks.v1+cell": {
     "cellMetadata": {},
     "inputWidgets": {},
     "nuid": "b323adeb-333d-4e05-9c35-7f22ebc010ba",
     "showTitle": false,
     "title": ""
    }
   },
   "outputs": [],
   "source": []
  }
 ],
 "metadata": {
  "application/vnd.databricks.v1+notebook": {
   "dashboards": [],
   "language": "python",
   "notebookMetadata": {
    "mostRecentlyExecutedCommandWithImplicitDF": {
     "commandId": 848021024679838,
     "dataframes": [
      "_sqldf"
     ]
    },
    "pythonIndentUnit": 4
   },
   "notebookName": "Lloyds - Data explore",
   "widgets": {}
  }
 },
 "nbformat": 4,
 "nbformat_minor": 0
}
